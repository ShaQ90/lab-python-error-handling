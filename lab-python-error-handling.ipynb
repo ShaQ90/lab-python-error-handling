{
 "cells": [
  {
   "cell_type": "markdown",
   "id": "25d7736c-ba17-4aff-b6bb-66eba20fbf4e",
   "metadata": {},
   "source": [
    "# Lab | Error Handling"
   ]
  },
  {
   "cell_type": "markdown",
   "id": "bc99b386-7508-47a0-bcdb-d969deaf6c8b",
   "metadata": {},
   "source": [
    "## Exercise: Error Handling for Managing Customer Orders\n",
    "\n",
    "The implementation of your code for managing customer orders assumes that the user will always enter a valid input. \n",
    "\n",
    "For example, we could modify the `initialize_inventory` function to include error handling.\n",
    "   - If the user enters an invalid quantity (e.g., a negative value or a non-numeric value), display an error message and ask them to re-enter the quantity for that product.\n",
    "   - Use a try-except block to handle the error and continue prompting the user until a valid quantity is entered.\n",
    "\n",
    "```python\n",
    "# Step 1: Define the function for initializing the inventory with error handling\n",
    "def initialize_inventory(products):\n",
    "    inventory = {}\n",
    "    for product in products:\n",
    "        valid_quantity = False\n",
    "        while not valid_quantity:\n",
    "            try:\n",
    "                quantity = int(input(f\"Enter the quantity of {product}s available: \"))\n",
    "                if quantity < 0:\n",
    "                    raise ValueError(\"Invalid quantity! Please enter a non-negative value.\")\n",
    "                valid_quantity = True\n",
    "            except ValueError as error:\n",
    "                print(f\"Error: {error}\")\n",
    "        inventory[product] = quantity\n",
    "    return inventory\n",
    "\n",
    "# Or, in another way:\n",
    "\n",
    "def initialize_inventory(products):\n",
    "    inventory = {}\n",
    "    for product in products:\n",
    "        valid_input = False\n",
    "        while not valid_input:\n",
    "            try:\n",
    "                quantity = int(input(f\"Enter the quantity of {product}s available: \"))\n",
    "                if quantity >= 0:\n",
    "                    inventory[product] = quantity\n",
    "                    valid_input = True\n",
    "                else:\n",
    "                    print(\"Quantity cannot be negative. Please enter a valid quantity.\")\n",
    "            except ValueError:\n",
    "                print(\"Invalid input. Please enter a valid quantity.\")\n",
    "    return inventory\n",
    "```\n",
    "\n",
    "Let's enhance your code by implementing error handling to handle invalid inputs.\n",
    "\n",
    "Follow the steps below to complete the exercise:\n",
    "\n",
    "2. Modify the `calculate_total_price` function to include error handling.\n",
    "   - If the user enters an invalid price (e.g., a negative value or a non-numeric value), display an error message and ask them to re-enter the price for that product.\n",
    "   - Use a try-except block to handle the error and continue prompting the user until a valid price is entered.\n",
    "\n",
    "3. Modify the `get_customer_orders` function to include error handling.\n",
    "   - If the user enters an invalid number of orders (e.g., a negative value or a non-numeric value), display an error message and ask them to re-enter the number of orders.\n",
    "   - If the user enters an invalid product name (e.g., a product name that is not in the inventory), or that doesn't have stock available, display an error message and ask them to re-enter the product name. *Hint: you will need to pass inventory as a parameter*\n",
    "   - Use a try-except block to handle the error and continue prompting the user until a valid product name is entered.\n",
    "\n",
    "4. Test your code by running the program and deliberately entering invalid quantities and product names. Make sure the error handling mechanism works as expected.\n"
   ]
  },
  {
   "cell_type": "code",
   "execution_count": 17,
   "id": "dbb5f329-d219-48e6-9fcc-900bbe487500",
   "metadata": {},
   "outputs": [],
   "source": [
    "products = [\"t-shirt\", \"mug\", \"hat\", \"book\", \"keychain\"]\n",
    "inventory = {}\n",
    "\n",
    "def check_if_int(prompt):\n",
    "    valid_input= False\n",
    "    while valid_input == False:\n",
    "        try:\n",
    "            data = int(input(prompt))\n",
    "            if data >= 0:\n",
    "                valid_input = True  \n",
    "            else:\n",
    "                print(\"Value cannot be negative. Please enter a valid quantity.\")\n",
    "        except ValueError:\n",
    "            print(f\"Invalid input. Please enter a valid quantity.\")\n",
    "    return data\n",
    "\n",
    "def check_if_float(prompt):\n",
    "    valid_input= False\n",
    "    while valid_input == False:\n",
    "        try:\n",
    "            data = float(input(prompt))\n",
    "            if data >= 0:\n",
    "                valid_input = True  \n",
    "            else:\n",
    "                print(\"Value cannot be negative. Please enter a valid quantity.\")\n",
    "        except ValueError:\n",
    "            print(f\"Invalid input. Please enter a valid quantity.\")\n",
    "    return data\n",
    "\n",
    "\n",
    "def initialize_inventory(items: list):\n",
    "    stock = {product:check_if_int(\"Enter the quantity of \"+product+\"s available\") for product in items}     \n",
    "    return stock\n",
    "    "
   ]
  },
  {
   "cell_type": "code",
   "execution_count": 19,
   "id": "1dcef8a9-a0c4-49b2-bea4-17fab9db83ba",
   "metadata": {},
   "outputs": [],
   "source": [
    "#2          \n",
    "def get_customer_orders(inventory):\n",
    "    num_order = check_if_int(\"Enter the number of customer orders:\")\n",
    "    costumer_order= []\n",
    "    for x in range(num_order):\n",
    "        item_in_inv = False\n",
    "        while  item_in_inv == False :\n",
    "            order = input(\"Enter the name of a product that a customer wants to order:\").lower()\n",
    "            try:\n",
    "                for item in inventory:\n",
    "                    if order in inventory :\n",
    "                        if inventory[order] <= 0:\n",
    "                            raise ValueError(f\"No stock availabe for{order}\")\n",
    "                        else:\n",
    "                            costumer_order.append(order)\n",
    "                            item_in_inv = True\n",
    "                    else:\n",
    "                        raise ValueError(\"Invalid Product! Please enter valid Product\")\n",
    "            except ValueError as error:\n",
    "                print(f\"Error: {error}\")  \n",
    "            \n",
    "    return set(costumer_order)"
   ]
  },
  {
   "cell_type": "code",
   "execution_count": 21,
   "id": "61304cb4-eb26-484d-a875-c4ed76ce93d4",
   "metadata": {},
   "outputs": [],
   "source": [
    "#3\n",
    "def update_inventory(costumer_orders, stock):\n",
    "    list_products = list(stock.keys())\n",
    "    for order in costumer_orders:\n",
    "\n",
    "        if order in list_products:\n",
    "            if stock[order] > 0:\n",
    "                stock[order] -=1\n",
    "            else:\n",
    "                print(f\"Product {order} out of stock\")\n",
    "        else:\n",
    "              print(f\"Product {order} doesnt exist\")\n",
    "    stock = {item:stock[item] for item in stock if not (stock[item] == 0) }\n",
    "            \n",
    "    return stock "
   ]
  },
  {
   "cell_type": "code",
   "execution_count": 23,
   "id": "8e9f702e-f10e-478b-99cb-57d708cc1508",
   "metadata": {},
   "outputs": [],
   "source": [
    "#4\n",
    "def calculate_order_statistics(costumer_orders,products):\n",
    "    total = 0\n",
    "    for order in costumer_orders:\n",
    "        total +=1\n",
    "    percent = total/len(products)*100\n",
    "    return total,percent"
   ]
  },
  {
   "cell_type": "code",
   "execution_count": 25,
   "id": "d1dcfbcc-78b7-4836-a22e-5e13615926d9",
   "metadata": {},
   "outputs": [],
   "source": [
    "#5\n",
    "def print_order_statistics(order_statistics):\n",
    "    print(f\"Total Products Ordered: {order_statistics[0]},\\nPercentage of Unique Products Ordered: {order_statistics[1]}%\")\n"
   ]
  },
  {
   "cell_type": "code",
   "execution_count": 27,
   "id": "35e7dc44-0375-4169-9d93-fe2ec86e9552",
   "metadata": {},
   "outputs": [],
   "source": [
    "\n",
    "#6 \n",
    "def print_updated_inventory(inventory):\n",
    "    { (print(f\"{product}:{inventory[product]}\")) for product in inventory}"
   ]
  },
  {
   "cell_type": "code",
   "execution_count": 29,
   "id": "87f15315-cfe1-4f59-a33a-dc0291d8f0e6",
   "metadata": {},
   "outputs": [],
   "source": [
    "#dict and func lab point 3\n",
    "\n",
    "\n",
    "def calculate_total_price (costumer_orders):\n",
    "    price_table = {item: check_if_float(\"Enter the price of \"+item+\":\") for item in costumer_orders}\n",
    "    total = sum([float(prices) for prices in price_table.values()])\n",
    "    print(f\"The total price is {total}€\")"
   ]
  },
  {
   "cell_type": "code",
   "execution_count": 31,
   "id": "4da8eaf6-702a-478e-a57d-62d2ab9e33b1",
   "metadata": {},
   "outputs": [
    {
     "name": "stdin",
     "output_type": "stream",
     "text": [
      "Enter the quantity of t-shirts available 0\n",
      "Enter the quantity of mugs available 1\n",
      "Enter the quantity of hats available 10\n",
      "Enter the quantity of books available 12\n",
      "Enter the quantity of keychains available 1\n",
      "Enter the number of customer orders: 5\n",
      "Enter the name of a product that a customer wants to order: t-shirt\n"
     ]
    },
    {
     "name": "stdout",
     "output_type": "stream",
     "text": [
      "Error: No stock availabe fort-shirt\n"
     ]
    },
    {
     "name": "stdin",
     "output_type": "stream",
     "text": [
      "Enter the name of a product that a customer wants to order: mug\n",
      "Enter the name of a product that a customer wants to order: mug\n",
      "Enter the name of a product that a customer wants to order: book\n",
      "Enter the name of a product that a customer wants to order: hat\n",
      "Enter the name of a product that a customer wants to order: keychain\n"
     ]
    },
    {
     "name": "stdout",
     "output_type": "stream",
     "text": [
      "\n",
      "Order Statistics:\n",
      "Total Products Ordered: 4,\n",
      "Percentage of Unique Products Ordered: 80.0%\n",
      "\n",
      "Updated Inventory:\n",
      "hat:9\n",
      "book:11\n"
     ]
    },
    {
     "name": "stdin",
     "output_type": "stream",
     "text": [
      "Enter the price of mug: 10\n",
      "Enter the price of hat: 15\n",
      "Enter the price of keychain: 20\n",
      "Enter the price of book: 1\n"
     ]
    },
    {
     "name": "stdout",
     "output_type": "stream",
     "text": [
      "The total price is 46.0€\n"
     ]
    }
   ],
   "source": [
    "#Code structure\n",
    "\n",
    "\n",
    "inventory = initialize_inventory(products)\n",
    "user_order = get_customer_orders(inventory)\n",
    "inventory = update_inventory(user_order,inventory)\n",
    "print(\"\\nOrder Statistics:\")\n",
    "statistics = calculate_order_statistics(user_order,products)\n",
    "print_order_statistics(statistics)\n",
    "print(\"\\nUpdated Inventory:\")\n",
    "print_updated_inventory(inventory)\n",
    "calculate_total_price(user_order)"
   ]
  },
  {
   "cell_type": "code",
   "execution_count": null,
   "id": "d37cee73-4cb5-40fe-98c9-6626de63ae02",
   "metadata": {},
   "outputs": [],
   "source": []
  }
 ],
 "metadata": {
  "kernelspec": {
   "display_name": "Python 3 (ipykernel)",
   "language": "python",
   "name": "python3"
  },
  "language_info": {
   "codemirror_mode": {
    "name": "ipython",
    "version": 3
   },
   "file_extension": ".py",
   "mimetype": "text/x-python",
   "name": "python",
   "nbconvert_exporter": "python",
   "pygments_lexer": "ipython3",
   "version": "3.12.4"
  }
 },
 "nbformat": 4,
 "nbformat_minor": 5
}
